{
 "cells": [
  {
   "cell_type": "code",
   "execution_count": 1,
   "id": "8b0f6162",
   "metadata": {},
   "outputs": [
    {
     "name": "stdout",
     "output_type": "stream",
     "text": [
      "请输入您的邮箱13852489119@163.com\n",
      "{\"success\":true,\"message\":\"输入正确！请进行下一步操作\",\"code\":200,\"result\":\"输入正确！请进行下一步操作\",\"timestamp\":1667782859775}\n"
     ]
    }
   ],
   "source": [
    "from post import *\n",
    "email = input(\"请输入您的邮箱\")\n",
    "queryEmail(email)"
   ]
  },
  {
   "cell_type": "code",
   "execution_count": 3,
   "id": "b24dbc58",
   "metadata": {},
   "outputs": [
    {
     "name": "stdout",
     "output_type": "stream",
     "text": [
      "  adding: yolov4_maskdetect_weights1.pth (deflated 7%)\n"
     ]
    }
   ],
   "source": [
    "!zip test1.zip ./yolov4_maskdetect_weights1.pth"
   ]
  },
  {
   "cell_type": "code",
   "execution_count": 2,
   "id": "d48be89b",
   "metadata": {},
   "outputs": [
    {
     "name": "stdout",
     "output_type": "stream",
     "text": [
      "\"0670df86cb5542c1d426d82313ccb3a8\"\n"
     ]
    }
   ],
   "source": [
    "import requests\n",
    "\n",
    "url = \"https://ai.eterc.cn/eterc-ai-boot/devcloudS3/toS3/upload\"\n",
    "\n",
    "payload={'objectKey': email+'.zip',\n",
    "'bucketName': 'intel-cup'}\n",
    "files=[\n",
    "  ('file',('test1.zip',open('./test1.zip','rb'),'application/zip'))\n",
    "]\n",
    "headers = {}\n",
    "\n",
    "response = requests.request(\"POST\", url, headers=headers, data=payload, files=files)\n",
    "\n",
    "print(response.text)\n"
   ]
  },
  {
   "cell_type": "code",
   "execution_count": 2,
   "id": "5ad68365",
   "metadata": {},
   "outputs": [
    {
     "name": "stdout",
     "output_type": "stream",
     "text": [
      "https://notebooks.edge.devcloud.intel.com/hub/login?next=/lab&RefURL=/content/www/cn/zh/developer/tools/devcloud/edge/build/overview.html\n"
     ]
    }
   ],
   "source": [
    "nextUrl()"
   ]
  },
  {
   "cell_type": "code",
   "execution_count": null,
   "id": "2d84d52c",
   "metadata": {},
   "outputs": [],
   "source": []
  }
 ],
 "metadata": {
  "kernelspec": {
   "display_name": "conda_amazonei_pytorch_latest_p37",
   "language": "python",
   "name": "conda_amazonei_pytorch_latest_p37"
  },
  "language_info": {
   "codemirror_mode": {
    "name": "ipython",
    "version": 3
   },
   "file_extension": ".py",
   "mimetype": "text/x-python",
   "name": "python",
   "nbconvert_exporter": "python",
   "pygments_lexer": "ipython3",
   "version": "3.7.10"
  }
 },
 "nbformat": 4,
 "nbformat_minor": 5
}
