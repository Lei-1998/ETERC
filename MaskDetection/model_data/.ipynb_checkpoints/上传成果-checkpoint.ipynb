{
 "cells": [
  {
   "cell_type": "code",
   "execution_count": 1,
   "metadata": {},
   "outputs": [
    {
     "name": "stdout",
     "output_type": "stream",
     "text": [
      "请输入您的邮箱13852489119@163.com\n",
      "{\"success\":true,\"message\":\"输入正确！请进行下一步操作\",\"code\":200,\"result\":\"输入正确！请进行下一步操作\",\"timestamp\":1667782859775}\n"
     ]
    }
   ],
   "source": [
    "from post import *\n",
    "email = input(\"请输入您的邮箱\")\n",
    "queryEmail(email)"
   ]
  },
  {
   "cell_type": "code",
   "execution_count": 2,
   "metadata": {},
   "outputs": [
    {
     "name": "stdout",
     "output_type": "stream",
     "text": [
      "\"0670df86cb5542c1d426d82313ccb3a8\"\n"
     ]
    }
   ],
   "source": [
    "import requests\n",
    "\n",
    "url = \"https://ai.eterc.cn/eterc-ai-boot/devcloudS3/toS3/upload\"\n",
    "\n",
    "payload={'objectKey': email+'.zip',\n",
    "'bucketName': 'intel-cup'}\n",
    "files=[\n",
    "  ('file',('test1.zip',open('./test1.zip','rb'),'application/zip'))\n",
    "]\n",
    "headers = {}\n",
    "\n",
    "response = requests.request(\"POST\", url, headers=headers, data=payload, files=files)\n",
    "\n",
    "print(response.text)\n"
   ]
  },
  {
   "cell_type": "code",
   "execution_count": 2,
   "metadata": {},
   "outputs": [
    {
     "name": "stdout",
     "output_type": "stream",
     "text": [
      "https://notebooks.edge.devcloud.intel.com/hub/login?next=/lab&RefURL=/content/www/cn/zh/developer/tools/devcloud/edge/build/overview.html\n"
     ]
    }
   ],
   "source": [
    "nextUrl()"
   ]
  },
  {
   "cell_type": "code",
   "execution_count": null,
   "metadata": {},
   "outputs": [],
   "source": []
  }
 ],
 "metadata": {
  "kernelspec": {
   "display_name": "Python 3",
   "language": "python",
   "name": "python3"
  },
  "language_info": {
   "codemirror_mode": {
    "name": "ipython",
    "version": 3
   },
   "file_extension": ".py",
   "mimetype": "text/x-python",
   "name": "python",
   "nbconvert_exporter": "python",
   "pygments_lexer": "ipython3",
   "version": "3.8.5"
  }
 },
 "nbformat": 4,
 "nbformat_minor": 5
}
